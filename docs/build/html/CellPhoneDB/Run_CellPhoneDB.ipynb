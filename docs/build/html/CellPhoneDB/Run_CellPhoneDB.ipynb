{
 "cells": [
  {
   "cell_type": "markdown",
   "metadata": {
    "id": "K7vscO-TJ0tI"
   },
   "source": [
    "## **Run CellPhoneDB**"
   ]
  },
  {
   "cell_type": "markdown",
   "metadata": {
    "id": "PaSkBVsiJ0lT"
   },
   "source": [
    "*   The CellPhoneDB documentation and package could be found  here: https://cellphonedb.readthedocs.io/en/latest\n",
    "*   The paper could be found here:\n",
    "https://doi.org/10.1038/s41596-024-01137-1\n",
    "*  **The analysis method are the same start from CellPhoneDB_v3 to CellPhoneDB_v5, though we said CellPhoneDB_v3 (meaning the use of the statistical method), we use the CellPhoneDB_v5 database.**"
   ]
  },
  {
   "cell_type": "markdown",
   "metadata": {
    "id": "muWIFtx4K0oS"
   },
   "source": [
    "### 1. **Import Package**"
   ]
  },
  {
   "cell_type": "code",
   "execution_count": null,
   "metadata": {
    "id": "zVvmevy3K3y3"
   },
   "outputs": [],
   "source": [
    "import pandas as pd\n",
    "import glob\n",
    "import os\n",
    "import glob\n",
    "import sys\n",
    "import os\n",
    "pd.set_option('display.max_columns', 100)\n",
    "import anndata as ad\n",
    "import scanpy as sc\n",
    "import numpy as np\n",
    "import random\n",
    "from cellphonedb.src.core.methods import cpdb_statistical_analysis_method"
   ]
  },
  {
   "cell_type": "markdown",
   "metadata": {
    "id": "UEcOM7DaK-yQ"
   },
   "source": [
    "### 2. **Run the Analysis**\n",
    "\n",
    "\n",
    "*   The below shows an example analysis on analyzing spot level data, where I have prepared the data by the following columns: `[\"x\", \"y\", \"celltypeA\",..., \"celltypeX\", \"cell_type(dominant cell type)\", \"GeneA\",..., \"GeneX\"]`.\n",
    "\n"
   ]
  },
  {
   "cell_type": "code",
   "execution_count": null,
   "metadata": {
    "id": "5oo8velwK_Ef"
   },
   "outputs": [],
   "source": [
    "for num in ['slice1','slice2','slice3','slice4']:\n",
    "  path_exprsn = f'/rsrch5/home/biostatistics/lku/ILIBD/data/{num}/exprsn_df.csv'\n",
    "  data = pd.read_csv(path_exprsn,index_col=0)\n",
    "  data = data.dropna(subset=['cell_type'])\n",
    "  data = data.set_index('cell', drop=False)\n",
    "  data.index.name = None\n",
    "  data[\"x\"] = np.random.permutation(data[\"x\"].values)\n",
    "  data[\"y\"] = np.random.permutation(data[\"y\"].values)\n",
    "\n",
    "  gene_expression = data.drop(columns=[\"x\",\"y\",\"cell\",\"Excitatory_neurons\",\"Inhibitory_neuron\", \"Astrocyte\", \"Oligodendrocyte\",\"Oligodendrocyte_precursor_cell\",\n",
    "                    \"Microglia\",\"Pericytes\", \"Endothelial_cells\",\"cell_type\"])\n",
    "  adata = sc.AnnData(X=gene_expression)\n",
    "  sc.pp.normalize_total(adata, target_sum=10000)\n",
    "  sc.pp.log1p(adata)\n",
    "\n",
    "  #normalized_expression = gene_expression.div(gene_expression.sum(axis=1), axis=0) * 10000\n",
    "  #adata = ad.AnnData(normalized_expression)\n",
    "  adata.write(f''/rsrch5/home/biostatistics/lku/ILIBD/data/{num}/nor_counts.h5ad')\n",
    "\n",
    "\n",
    "  meta_data = data[[\"cell\",\"cell_type\"]]\n",
    "  meta_data = meta_data.copy()  # Ensures it is a separate DataFrame\n",
    "  meta_data.rename(columns={\"cell\": \"Cell\", \"cell_type\": \"cell_type\"}, inplace=True)\n",
    "  meta_data.set_index('Cell', inplace=True)\n",
    "  meta_data.to_csv(f''/rsrch5/home/biostatistics/lku/ILIBD/data/{num}/meta_data.tsv', sep=\"\\t\")\n",
    "\n",
    "  cpdb_file_path = '/rsrch5/home/biostatistics/lku/cellphoneDB_v5/cellphonedb.zip'\n",
    "  meta_file_path = f''/rsrch5/home/biostatistics/lku/ILIBD/data/{num}/meta_data.tsv'\n",
    "  counts_file_path = f''/rsrch5/home/biostatistics/lku/ILIBD/data/{num}/nor_counts.h5ad'\n",
    "  out_path = f''/rsrch5/home/biostatistics/lku/ILIBD/data/{num}/'\n",
    "  cpdb_results = cpdb_statistical_analysis_method.call(\n",
    "      cpdb_file_path = cpdb_file_path,                 # mandatory: CellphoneDB database zip file.\n",
    "      meta_file_path = meta_file_path,                 # mandatory: tsv file defining barcodes to cell label.\n",
    "      counts_file_path = counts_file_path,             # mandatory: normalized count matrix - a path to the counts file, or an in-memory AnnData object\n",
    "      counts_data = 'hgnc_symbol',                     # defines the gene annotation in counts matrix.\n",
    "      score_interactions = True,                       # optional: whether to score interactions or not.\n",
    "      iterations = 1000,                               # denotes the number of shufflings performed in the analysis.\n",
    "      threshold = 0.1,                                 # defines the min % of cells expressing a gene for this to be employed in the analysis.\n",
    "      threads = 5,                                     # number of threads to use in the analysis.\n",
    "      debug_seed = 42,                                 # debug randome seed. To disable >=0.\n",
    "      result_precision = 3,                            # Sets the rounding for the mean values in significan_means.\n",
    "      pvalue = 0.05,                                   # P-value threshold to employ for significance.\n",
    "      separator = '|',                                 # Sets the string to employ to separate cells in the results dataframes \"cellA|CellB\".\n",
    "      debug = False,                                   # Saves all intermediate tables employed during the analysis in pkl format.\n",
    "      output_path = out_path,                          # Path to save results.\n",
    "      output_suffix = None                             # Replaces the timestamp in the output files by a user defined string in the  (default: None).\n",
    "      )"
   ]
  }
 ],
 "metadata": {
  "colab": {
   "provenance": []
  },
  "kernelspec": {
   "display_name": "Python 3",
   "name": "python3"
  },
  "language_info": {
   "name": "python"
  }
 },
 "nbformat": 4,
 "nbformat_minor": 0
}
